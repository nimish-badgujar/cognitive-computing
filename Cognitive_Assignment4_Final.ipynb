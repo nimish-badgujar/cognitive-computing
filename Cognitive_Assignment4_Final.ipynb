{
 "cells": [
  {
   "cell_type": "markdown",
   "id": "b242aa16-e47c-4dae-b13d-8d426213f803",
   "metadata": {},
   "source": [
    "# Assignment 4: Cognitive Computing\n",
    "**Nimish Badgujar**\n",
    "**102497027**\n",
    "---"
   ]
  },
  {
   "cell_type": "markdown",
   "id": "ed4d6bdb-a8d9-4812-af86-68adbcbf95da",
   "metadata": {},
   "source": [
    "## Question 1\n",
    "Write a program to create a NumPy 1D-array with 5 elements and perform basic\n",
    "operations like:\n",
    "a) Addition of 2 in all the element\n",
    "b) Multiply 3 with all the elements\n",
    "c) Divide every element by 2"
   ]
  },
  {
   "cell_type": "code",
   "execution_count": 19,
   "id": "57b9cc07-61c0-4733-9abf-21cce1516c6c",
   "metadata": {},
   "outputs": [
    {
     "name": "stdout",
     "output_type": "stream",
     "text": [
      "Original: [1 2 3 4 5]\n",
      "After Addition of 2: [3 4 5 6 7]\n",
      "After Multiplication by 3: [ 3  6  9 12 15]\n",
      "After Division by 2: [0.5 1.  1.5 2.  2.5]\n"
     ]
    }
   ],
   "source": [
    "import numpy as np\n",
    "\n",
    "nums = np.array([1,2,3,4,5])\n",
    "print(f\"Original: {nums}\")\n",
    "added = nums + 2\n",
    "multiplied = nums * 3\n",
    "divided = nums / 2\n",
    "print(f\"After Addition of 2: {added}\\nAfter Multiplication by 3: {multiplied}\\nAfter Division by 2: {divided}\")"
   ]
  },
  {
   "cell_type": "markdown",
   "id": "85dbcc42-2f69-4510-9cea-5c25c116f03d",
   "metadata": {},
   "source": [
    "## Question 2\n",
    "Questions on Basic NumPy Array:\n",
    "a) Reverse the NumPy array: arr = np.array([1, 2, 3, 6, 4, 5])\n",
    "b) Find the most frequent value and their indice(s) in the following arrays:\n",
    "i. x = np.array([1,2,3,4,5,1,2,1,1,1])\n",
    "ii. y = np.array([1, 1, 1, 2, 3, 4, 2, 4, 3, 3, ])"
   ]
  },
  {
   "cell_type": "code",
   "execution_count": 20,
   "id": "361768c5-603f-45dc-a5ff-ffc71eff2af8",
   "metadata": {},
   "outputs": [
    {
     "name": "stdout",
     "output_type": "stream",
     "text": [
      "Reversed Array: [5 4 3 2 1]\n"
     ]
    }
   ],
   "source": [
    "import numpy as np\n",
    "orig_arr = np.array([1,2,3,4,5])\n",
    "rev_arr = orig_arr[::-1]\n",
    "print(f\"Reversed Array: {rev_arr}\")"
   ]
  },
  {
   "cell_type": "code",
   "execution_count": 21,
   "id": "69f6f462-de58-443c-9458-57424407e325",
   "metadata": {},
   "outputs": [
    {
     "name": "stdout",
     "output_type": "stream",
     "text": [
      "For x -> value: 1, indices: [0 5 7 8 9]\n",
      "For y -> value: 1, indices: [0 1 2]\n"
     ]
    }
   ],
   "source": [
    "x = np.array([1,2,3,4,5,1,2,1,1,1])\n",
    "freq_x = np.bincount(x).argmax()\n",
    "idx_x = np.where(x == freq_x)[0]\n",
    "y = np.array([1,1,1,2,3,4,2,4,3,3])\n",
    "freq_y = np.bincount(y).argmax()\n",
    "idx_y = np.where(y == freq_y)[0]\n",
    "print(f\"For x -> value: {freq_x}, indices: {idx_x}\")\n",
    "print(f\"For y -> value: {freq_y}, indices: {idx_y}\")"
   ]
  },
  {
   "cell_type": "markdown",
   "id": "354158c9-e586-4fac-9340-e5d7fbe67fb2",
   "metadata": {},
   "source": [
    "## Question 3\n",
    "For the given 2-D array arr=np.array([10, 20, 30], [40, 50, 60], [70, 80, 90]), access\n",
    "elements using row and column indices as follows:\n",
    "a) Access 1st row, 2nd column\n",
    "b) Access 3rd row, 1st column"
   ]
  },
  {
   "cell_type": "code",
   "execution_count": 22,
   "id": "4ea97409-caa5-4310-8a9f-6d95c5c20cd1",
   "metadata": {},
   "outputs": [
    {
     "name": "stdout",
     "output_type": "stream",
     "text": [
      "(1st row, 2nd col): 20\n",
      "(3rd row, 1st col): 70\n"
     ]
    }
   ],
   "source": [
    "import numpy as np\n",
    "\n",
    "matrix = np.array([[10,20,30],[40,50,60],[70,80,90]])\n",
    "first_row_second_col = matrix[0,1]\n",
    "third_row_first_col = matrix[2,0]\n",
    "print(f\"(1st row, 2nd col): {first_row_second_col}\")\n",
    "print(f\"(3rd row, 1st col): {third_row_first_col}\")"
   ]
  },
  {
   "cell_type": "markdown",
   "id": "236ff4cc-ff3f-4f62-94d3-b9701bdf238c",
   "metadata": {},
   "source": [
    "## Question 4\n",
    "Write a program to create an 1-D NumPy array named <<Your Name>> with evenly\n",
    "spaced 25 numbers from 10 to 100 using linspace(). Print the dimensions of the array,\n",
    "shape, total elements, the data type of each element and total number of bytes consumed\n",
    "by the array. Find the transpose of this array using reshape() attribute. Can we do the same\n",
    "with T attribute?"
   ]
  },
  {
   "cell_type": "code",
   "execution_count": 23,
   "id": "f15fdb3c-e9b9-4f5e-be6f-a905318d539d",
   "metadata": {},
   "outputs": [
    {
     "name": "stdout",
     "output_type": "stream",
     "text": [
      "Array: [ 10.    13.75  17.5   21.25  25.    28.75  32.5   36.25  40.    43.75\n",
      "  47.5   51.25  55.    58.75  62.5   66.25  70.    73.75  77.5   81.25\n",
      "  85.    88.75  92.5   96.25 100.  ]\n",
      "Dimensions: 1\n",
      "Shape: (25,)\n",
      "Total: 25\n",
      "Type: float64\n",
      "Bytes: 200\n",
      "Transpose via reshape:\n",
      " [[ 10.  ]\n",
      " [ 13.75]\n",
      " [ 17.5 ]\n",
      " [ 21.25]\n",
      " [ 25.  ]\n",
      " [ 28.75]\n",
      " [ 32.5 ]\n",
      " [ 36.25]\n",
      " [ 40.  ]\n",
      " [ 43.75]\n",
      " [ 47.5 ]\n",
      " [ 51.25]\n",
      " [ 55.  ]\n",
      " [ 58.75]\n",
      " [ 62.5 ]\n",
      " [ 66.25]\n",
      " [ 70.  ]\n",
      " [ 73.75]\n",
      " [ 77.5 ]\n",
      " [ 81.25]\n",
      " [ 85.  ]\n",
      " [ 88.75]\n",
      " [ 92.5 ]\n",
      " [ 96.25]\n",
      " [100.  ]]\n",
      "Transpose via T attribute:\n",
      " [ 10.    13.75  17.5   21.25  25.    28.75  32.5   36.25  40.    43.75\n",
      "  47.5   51.25  55.    58.75  62.5   66.25  70.    73.75  77.5   81.25\n",
      "  85.    88.75  92.5   96.25 100.  ]\n"
     ]
    }
   ],
   "source": [
    "import numpy as np\n",
    "\n",
    "nimish = np.linspace(10, 100, 25)\n",
    "d_count = nimish.ndim\n",
    "dim_shape = nimish.shape\n",
    "elem_total = nimish.size\n",
    "dtype_info = nimish.dtype\n",
    "b_count = nimish.nbytes\n",
    "print(f\"Array: {nimish}\\nDimensions: {d_count}\\nShape: {dim_shape}\\nTotal: {elem_total}\\nType: {dtype_info}\\nBytes: {b_count}\")\n",
    "reshaped = nimish.reshape(25, 1)\n",
    "print(\"Transpose via reshape:\\n\", reshaped)\n",
    "print(\"Transpose via T attribute:\\n\", nimish.T)"
   ]
  },
  {
   "cell_type": "markdown",
   "id": "62a3a24a-12f0-4f61-93c5-27d44f1375aa",
   "metadata": {},
   "source": [
    "## Question 5\n",
    "Create a 2-D Array of three rows and four columns, named ucs420_<your_name>>\n",
    "with following values – 10, 20, 30, 40, 50, 60, 70, 80, 90, 15, 20, 35. Compute the mean,\n",
    "median, max, min, unique elements. Reshape the array to four rows and three columns and\n",
    "name it as reshaped_ ucs420_<your_name>>. Resize the array to two rows and three\n",
    "columns and name it as resized_ ucs420_<your_name>>."
   ]
  },
  {
   "cell_type": "code",
   "execution_count": 24,
   "id": "3b62f834-ea81-4879-94f2-ca2af7e6b82b",
   "metadata": {},
   "outputs": [
    {
     "name": "stdout",
     "output_type": "stream",
     "text": [
      "Mean: 43.333333333333336\n",
      "Median: 37.5\n",
      "Max: 90\n",
      "Min: 10\n",
      "Unique: [10 15 20 30 35 40 50 60 70 80 90]\n",
      "Reshaped (4x3):\n",
      " [[10 20 30]\n",
      " [40 50 60]\n",
      " [70 80 90]\n",
      " [15 20 35]]\n",
      "Resized (2x3):\n",
      " [[10 20 30]\n",
      " [40 50 60]]\n"
     ]
    }
   ],
   "source": [
    "import numpy as np\n",
    "\n",
    "ucs420_nimish = np.array([[10,20,30,40],[50,60,70,80],[90,15,20,35]])\n",
    "arr_mean = np.mean(ucs420_nimish)\n",
    "arr_median = np.median(ucs420_nimish)\n",
    "arr_max = np.max(ucs420_nimish)\n",
    "arr_min = np.min(ucs420_nimish)\n",
    "arr_unique = np.unique(ucs420_nimish)\n",
    "print(f\"Mean: {arr_mean}\\nMedian: {arr_median}\\nMax: {arr_max}\\nMin: {arr_min}\\nUnique: {arr_unique}\")\n",
    "reshaped_nimish = ucs420_nimish.reshape(4,3)\n",
    "print(\"Reshaped (4x3):\\n\", reshaped_nimish)\n",
    "resized_nimish = np.resize(ucs420_nimish, (2,3))\n",
    "print(\"Resized (2x3):\\n\", resized_nimish)"
   ]
  }
 ],
 "metadata": {
  "kernelspec": {
   "display_name": "Python 3 (ipykernel)",
   "language": "python",
   "name": "python3"
  },
  "language_info": {
   "codemirror_mode": {
    "name": "ipython",
    "version": 3
   },
   "file_extension": ".py",
   "mimetype": "text/x-python",
   "name": "python",
   "nbconvert_exporter": "python",
   "pygments_lexer": "ipython3",
   "version": "3.13.1"
  }
 },
 "nbformat": 4,
 "nbformat_minor": 5
}
